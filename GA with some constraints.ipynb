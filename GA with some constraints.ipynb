{
 "cells": [
  {
   "cell_type": "code",
   "execution_count": 1,
   "id": "8ac9d6ff",
   "metadata": {},
   "outputs": [],
   "source": [
    "import pandas as pd\n",
    "import numpy as np\n",
    "import math\n",
    "from scipy.optimize import minimize\n",
    "import matplotlib.pyplot as plt\n",
    "import warnings\n",
    "warnings.filterwarnings(\"ignore\")\n",
    "import pygad\n",
    "from time import time"
   ]
  },
  {
   "cell_type": "code",
   "execution_count": 2,
   "id": "e32999f2",
   "metadata": {},
   "outputs": [],
   "source": [
    "'''\n",
    "The provided evaluation function with minor modifications to reduce runtime\n",
    "'''\n",
    "def func(F,s0,link_flows_real,PRINT, A, B):\n",
    "\n",
    "    #parameters\n",
    "    \n",
    "    t = time()\n",
    "    \n",
    "    t_link = np.array([30,3,28,3,15,10,0,0,10,0])\n",
    "    t_path = np.dot(A.T,t_link)\n",
    "\n",
    "    alpha = 1\n",
    "\n",
    "    r = np.array([10])\n",
    "\n",
    "    G = np.dot((F-np.eye(10)),A)\n",
    "\n",
    "    #Network Structure\n",
    "    N = {\n",
    "        1:[2,4,7],\n",
    "        2:[3,5],\n",
    "        3:[4],\n",
    "        4:[],\n",
    "        5:[5],\n",
    "        6:[3],\n",
    "        7:[8],\n",
    "        8:[4]\n",
    "    } ## Node Structure\n",
    "\n",
    "    link_node = np.array([[1, 1, 4],\n",
    "            [2, 1, 2],\n",
    "            [3, 2, 3],\n",
    "            [4, 3, 4],\n",
    "            [5, 5, 6],\n",
    "            [6, 7, 8],\n",
    "            [7, 2, 3], \n",
    "            [8, 6, 3],\n",
    "            [9, 1, 7],\n",
    "            [10, 8, 4],]) ## Link and node\n",
    "\n",
    "    #Origin List\n",
    "    O = np.array([1])\n",
    "    D = np.array([4])\n",
    "\n",
    "    #cost matrix\n",
    "    c = np.ones((8,8)) * np.inf\n",
    "    \n",
    "    # print(\"Group 0: %.6fs\" % (time() - t))\n",
    "    t = time()\n",
    "    \n",
    "    for i in range(8):\n",
    "        c[i,i] = 0\n",
    "    for i in range(len(link_node)):\n",
    "        link_id = link_node[i,0]\n",
    "        start = link_node[i,1]\n",
    "        end = link_node[i,2]\n",
    "        c[start - 1, end - 1] = t_link[link_id-1]\n",
    "    \n",
    "    # print(\"Group 1: %.6fs\" % (time() - t))\n",
    "    t = time()\n",
    "\n",
    "    od_num = len(r)\n",
    "    link_num = len(link_node)\n",
    "    node_num = len(N)\n",
    "    path_num = A.shape[1]\n",
    "\n",
    "    ###OBJECTIVE\n",
    "    def obj(h):\n",
    "        return sum(np.multiply((np.log(h)-1),h))+np.dot(t_path,h)\n",
    "    '''\n",
    "    def obj_der(h):\n",
    "        der = np.zeros_like(h)\n",
    "        for i in range(len(h)):\n",
    "            der[i] = np.log(h[i])+t_path[i]\n",
    "        return der\n",
    "    '''\n",
    "    def obj_der(h):\n",
    "        return np.log(h) + t_path\n",
    "\n",
    "    def obj_hess(h):\n",
    "        hess = np.zeros((len(h),len(h)))\n",
    "        for i in range(len(h)):\n",
    "            hess[i,i] = 1/h[i]\n",
    "        return hess\n",
    "\n",
    "\n",
    "    ###CONSTRAINTS\n",
    "    from scipy.optimize import LinearConstraint\n",
    "    LOWER_cap = -s0\n",
    "    UPPER_cap = [np.inf]*link_num\n",
    "    Capacity_constraint = LinearConstraint(G,LOWER_cap,UPPER_cap)\n",
    "\n",
    "    LOWER_r = np.ones((od_num))*10\n",
    "    UPPER_r = np.ones((od_num))*10\n",
    "    R_constraint = LinearConstraint(B,LOWER_r,UPPER_r)\n",
    "\n",
    "    LOWER_nn = np.zeros((path_num))\n",
    "    UPPER_nn = [np.inf]*path_num\n",
    "    NN_constraint = LinearConstraint(np.eye(path_num),LOWER_nn,UPPER_nn)\n",
    "\n",
    "    # print(\"Group 2: %.6fs\" % (time() - t))\n",
    "    t = time()\n",
    "\n",
    "    ###OPTIMIZE\n",
    "    for i in range(10):\n",
    "        h0 = np.ones((path_num))*2.5\n",
    "        Solution = minimize(obj, h0, method='trust-constr', jac=obj_der, hess=obj_hess,\n",
    "                   constraints=[Capacity_constraint,R_constraint,NN_constraint],\n",
    "                   options={'verbose': 0,'disp': False}) \n",
    "        # print(i, Solution.x, Solution.message)\n",
    "        if Solution.status != 0:\n",
    "            break\n",
    "    \n",
    "    # print(\"Group 3: %.6fs\" % (time() - t))\n",
    "    t = time()\n",
    "\n",
    "    lm = Solution.v[0]\n",
    "    h_UE = Solution.x\n",
    "    capacity = np.dot(np.dot(F,A),h_UE)+s0\n",
    "    link_flows = np.dot(A,h_UE)\n",
    "    \n",
    "    error = np.linalg.norm(link_flows-link_flows_real) # L2 norm of the difference between the real flows and the flows solved from the given F\n",
    "\n",
    "    if PRINT == 1:\n",
    "        print (\"F: \", np.round(F, 3))\n",
    "        print (\"Path Flow: \",np.round(h_UE,3))\n",
    "        print (\"Capacity: \",np.round(np.dot(np.dot(F,A),h_UE)+s0,3))\n",
    "        print (\"Link flow: \",np.round(np.dot(A,h_UE),3))\n",
    "        print (\"Error:\", np.round(error, 3))\n",
    "        print (\"-----------------------------------------------\")\n",
    "        \n",
    "    # print(\"Group 4: %.6fs\" % (time() - t))\n",
    "    t = time()\n",
    "\n",
    "    return link_flows, capacity, error #output steady-state link flows and capacities and the error\n"
   ]
  },
  {
   "cell_type": "code",
   "execution_count": 3,
   "id": "cb64b12a",
   "metadata": {},
   "outputs": [],
   "source": [
    "### specify the input functions\n",
    "\n",
    "# set a random F\n",
    "F = np.zeros((10,10))\n",
    "\n",
    "#s0\n",
    "s0 = np.array([np.inf,np.inf,np.inf,np.inf,np.inf,np.inf,5,5,5,np.inf])\n",
    "\n",
    "#real link flows\n",
    "link_flows_real = np.array([0.89264769, 4.56191687, 0.01650574, 4.56191687, 4.54541114,\n",
    "       4.54543543, 4.54541114, 4.54541114, 4.54543543, 4.54543543])\n",
    "\n",
    "A = pd.read_csv('A Matrix.csv', index_col=0).values\n",
    "B = pd.read_csv('B Matrix.csv', index_col=0).values"
   ]
  },
  {
   "cell_type": "code",
   "execution_count": 4,
   "id": "c567cdcd",
   "metadata": {},
   "outputs": [
    {
     "data": {
      "text/plain": [
       "array([[ 0. ,  0. ,  0. ,  0. ,  0. ,  0. ,  0. ,  0. ,  0. ,  0. ],\n",
       "       [ 0. ,  0. ,  0. ,  0. ,  0. ,  0. ,  0. ,  0. ,  0. ,  0. ],\n",
       "       [ 0. ,  0. ,  0. ,  0. ,  0. ,  0. ,  0. ,  0. ,  0. ,  0. ],\n",
       "       [ 0. ,  0. ,  0. ,  0. ,  0. ,  0. ,  0. ,  0. ,  0. ,  0. ],\n",
       "       [ 0. ,  0. ,  0. ,  0. ,  0. ,  0. ,  0. ,  0. ,  0. ,  0. ],\n",
       "       [ 0. ,  0. ,  0. ,  0. ,  0. ,  0. ,  0. ,  0. ,  0. ,  0. ],\n",
       "       [ 0. ,  0. ,  0. ,  0. , -0.1,  0. ,  0. ,  0. ,  0. ,  0. ],\n",
       "       [ 0. ,  0. ,  0. ,  0. , -0.1,  0. ,  0. ,  0. ,  0. ,  0. ],\n",
       "       [ 0. ,  0. ,  0. ,  0. ,  0. , -0.1,  0. ,  0. ,  0. ,  0. ],\n",
       "       [ 0. ,  0. ,  0. ,  0. ,  0. ,  0. ,  0. ,  0. ,  0. ,  0. ]])"
      ]
     },
     "execution_count": 4,
     "metadata": {},
     "output_type": "execute_result"
    }
   ],
   "source": [
    "F_real = pd.read_csv('F Matrix.csv', index_col=0).values\n",
    "F_real"
   ]
  },
  {
   "cell_type": "markdown",
   "id": "cb8af233",
   "metadata": {},
   "source": [
    "We need to limit certain values in the matrix to 0, leaving the remaining to be genes in the population. In this case we have an $F$ matrix beforehand and we know where the values are. For other examples, we can modify these parameters according to where the 0 values need to be."
   ]
  },
  {
   "cell_type": "code",
   "execution_count": 121,
   "id": "da16bb3f",
   "metadata": {},
   "outputs": [
    {
     "name": "stdout",
     "output_type": "stream",
     "text": [
      "Row = 6, col = 4, value = -0.1\n",
      "Row = 7, col = 4, value = -0.1\n",
      "Row = 8, col = 5, value = -0.1\n"
     ]
    }
   ],
   "source": [
    "# Get indices of non-zero values\n",
    "rows, cols = np.where(F_real != 0)\n",
    "for i in range(len(list(rows))):\n",
    "    print(f\"Row = {rows[i]}, col = {cols[i]}, value = {F_real[rows[i]][cols[i]]}\")"
   ]
  },
  {
   "cell_type": "code",
   "execution_count": 5,
   "id": "8d620670",
   "metadata": {},
   "outputs": [
    {
     "data": {
      "text/plain": [
       "1.5538524446395765"
      ]
     },
     "execution_count": 5,
     "metadata": {},
     "output_type": "execute_result"
    }
   ],
   "source": [
    "link_flows, capacity, error = func(F,#the given F\n",
    "                                   s0,#the given s0\n",
    "                                   link_flows_real, # real link flows\n",
    "                                   0, #print results (1) or not (0)\n",
    "                                   A, B)\n",
    "error"
   ]
  },
  {
   "cell_type": "code",
   "execution_count": 6,
   "id": "e26af22d",
   "metadata": {},
   "outputs": [
    {
     "data": {
      "text/plain": [
       "1.1227738477047337e-08"
      ]
     },
     "execution_count": 6,
     "metadata": {},
     "output_type": "execute_result"
    }
   ],
   "source": [
    "link_flows, capacity, error = func(F_real, s0, link_flows_real, 0, A, B)\n",
    "error"
   ]
  },
  {
   "cell_type": "markdown",
   "id": "639fc601",
   "metadata": {},
   "source": [
    "## Defining an alternative score for differences between real flows and computed flows\n",
    "\n",
    "TS-SS computes the similarity between two vectors from diverse perspective and generates the similarity value from two vectors not only from the angle and Euclidean distance between them, but also the difference between their magnitudes.\n",
    "\n",
    "https://www.computer.org/csdl/proceedings-article/bigdataservice/2016/2251a142/12OmNweBUID\n",
    "\n",
    "Test runs with the same hyperparameters show that using TS-SS similarity yields slightly better results than using L2 norm."
   ]
  },
  {
   "cell_type": "code",
   "execution_count": 140,
   "id": "be6d3376",
   "metadata": {},
   "outputs": [],
   "source": [
    "def cosine(v0, v1):\n",
    "    dot_product = np.dot(v0, v1.T)\n",
    "    denominator = (np.linalg.norm(v0) * np.linalg.norm(v1))\n",
    "    return dot_product/denominator\n",
    "    \n",
    "def euclidean(v0, v1):\n",
    "    return np.linalg.norm(v0 - v1)\n",
    "\n",
    "def theta(v0, v1):\n",
    "    return np.arccos(cosine(v0, v1)) + np.radians(10)\n",
    "\n",
    "def triangle(v0, v1):\n",
    "    t = np.radians(theta(v0, v1))\n",
    "    return ((np.linalg.norm(v0) * np.linalg.norm(v1)) * np.sin(t))/2\n",
    "\n",
    "def magnitude_diff(v0, v1):\n",
    "    return abs((np.linalg.norm(v0) - np.linalg.norm(v1)))\n",
    "\n",
    "def sector(v0, v1):\n",
    "    ED = euclidean(v0, v1)\n",
    "    MD = magnitude_diff(v0, v1)\n",
    "    t = theta(v0, v1)\n",
    "    return math.pi * (ED + MD)**2 * t/360\n",
    "\n",
    "def ts_ss(v0, v1):\n",
    "    v0[np.isinf(v0)] = 0\n",
    "    v1[np.isinf(v1)] = 0\n",
    "    score = triangle(v0, v1) * sector(v0, v1)\n",
    "    return score"
   ]
  },
  {
   "cell_type": "code",
   "execution_count": 8,
   "id": "39736ad6",
   "metadata": {},
   "outputs": [
    {
     "name": "stdout",
     "output_type": "stream",
     "text": [
      "0.00021356543318654052\n",
      "0.0\n",
      "6.827896906936562\n"
     ]
    }
   ],
   "source": [
    "# Try the TS-SS similarity function\n",
    "tmp_v0 = np.random.rand(10)\n",
    "tmp_v1 = np.random.rand(10)\n",
    "print(ts_ss(tmp_v0, tmp_v1))\n",
    "print(ts_ss(tmp_v0, tmp_v0)) # Identical vectors\n",
    "print(ts_ss(tmp_v0, -5*tmp_v0)) # Vectors of different directions & very different magnitudes"
   ]
  },
  {
   "cell_type": "markdown",
   "id": "6f9da850",
   "metadata": {},
   "source": [
    "$$\\text{fitness score} = \\frac{1}{2^{\\text{similarity score}}}\\\\\n",
    "\\text{similarity score = 0 (identical vectors)} \\iff \\text{fitness score} = 1$$"
   ]
  },
  {
   "cell_type": "code",
   "execution_count": 189,
   "id": "47c445e5",
   "metadata": {},
   "outputs": [],
   "source": [
    "'''\n",
    "The fitness function used in genetic algorithm.\n",
    "Both scores (L2 norm & TS-SS) are recorded.\n",
    "For both similarity functions, bigger scores indicate bigger differences -- we need to minimize this.\n",
    "The fitness function priorities higher fitness values. So we need to invert the similarity scores.\n",
    "Fitness value = 1 / 2^(similarity)\n",
    "'''\n",
    "def fitness_func(solution, solution_idx):\n",
    "    # sol = np.array(solution).reshape(-1, 1).reshape(10, 10)\n",
    "    sol = np.zeros((10, 10))\n",
    "    for i in range(len(list(rows))):\n",
    "        sol[rows[i]][cols[i]] = np.array(solution)[i]\n",
    "    link_flows, _, score = func(sol, s0, link_flows_real, 0, A, B) # score = L2 norm\n",
    "    diff = ts_ss(link_flows, link_flows_real) # diff = TS-SS score\n",
    "    score_inv = 1 / (2**diff) # Use score or diff here to change which similarity score is used\n",
    "    return score_inv"
   ]
  },
  {
   "cell_type": "code",
   "execution_count": 219,
   "id": "de5f7d6a",
   "metadata": {},
   "outputs": [],
   "source": [
    "fitness_function = fitness_func\n",
    "\n",
    "num_generations = 850\n",
    "num_parents_mating = 4\n",
    "\n",
    "sol_per_pop = 20\n",
    "num_genes = 3 # We know this based on the real F matrix. Modify this for other examples\n",
    "\n",
    "init_range_low = 0\n",
    "init_range_high = 0\n",
    "\n",
    "parent_selection_type = \"sss\"\n",
    "keep_parents = 1\n",
    "\n",
    "crossover_type = \"single_point\"\n",
    "\n",
    "mutation_type = \"random\"\n",
    "mutation_percent_genes = 1\n",
    "\n",
    "# random_mutation_min_val = -0.5\n",
    "# random_mutation_max_val = 0.5\n",
    "\n",
    "gene_space = {'low': -0.5, 'high': 0.5} # Limit the max and min for gene values"
   ]
  },
  {
   "cell_type": "code",
   "execution_count": 220,
   "id": "096508cc",
   "metadata": {},
   "outputs": [],
   "source": [
    "def get_model(num_generations, sol_per_pop, mutation_percent_genes):\n",
    "    ga_instance = pygad.GA(num_generations=num_generations,\n",
    "                           num_parents_mating=num_parents_mating,\n",
    "                           fitness_func=fitness_function,\n",
    "                           sol_per_pop=sol_per_pop,\n",
    "                           num_genes=num_genes,\n",
    "                           init_range_low=init_range_low,\n",
    "                           init_range_high=init_range_high,\n",
    "                           parent_selection_type=parent_selection_type,\n",
    "                           keep_parents=keep_parents,\n",
    "                           crossover_type=crossover_type,\n",
    "                           mutation_type=mutation_type,\n",
    "                           mutation_percent_genes=mutation_percent_genes,\n",
    "                           gene_space=gene_space,\n",
    "                           save_best_solutions=True,\n",
    "                           save_solutions=True)\n",
    "    return ga_instance"
   ]
  },
  {
   "cell_type": "code",
   "execution_count": 221,
   "id": "0097cfcb",
   "metadata": {},
   "outputs": [
    {
     "name": "stdout",
     "output_type": "stream",
     "text": [
      "Runtime: 258.34s\n"
     ]
    }
   ],
   "source": [
    "t = time()\n",
    "ga = get_model(num_generations, sol_per_pop, mutation_percent_genes)\n",
    "ga.run()\n",
    "print(\"Runtime: %.2fs\" % (time() - t))"
   ]
  },
  {
   "cell_type": "markdown",
   "id": "b6b9821a",
   "metadata": {},
   "source": [
    "Get best solution from the run:"
   ]
  },
  {
   "cell_type": "code",
   "execution_count": 222,
   "id": "d7318bd1",
   "metadata": {},
   "outputs": [
    {
     "name": "stdout",
     "output_type": "stream",
     "text": [
      "[-0.09979559  0.02932407 -0.10039545] (851, 3)\n"
     ]
    },
    {
     "data": {
      "text/plain": [
       "0.003480447486797341"
      ]
     },
     "execution_count": 222,
     "metadata": {},
     "output_type": "execute_result"
    }
   ],
   "source": [
    "solution, solution_fitness, solution_idx = ga.best_solution()\n",
    "sol = np.zeros((10, 10))\n",
    "for i in range(len(list(rows))):\n",
    "    sol[rows[i]][cols[i]] = np.array(solution)[i]\n",
    "_, _, norm = func(sol, s0, link_flows_real, 0, A, B)\n",
    "print(solution, ga.best_solutions.shape)\n",
    "norm"
   ]
  },
  {
   "cell_type": "markdown",
   "id": "889c45ab",
   "metadata": {},
   "source": [
    "Visualize best solutions from all generations:"
   ]
  },
  {
   "cell_type": "code",
   "execution_count": 223,
   "id": "0f794cc7",
   "metadata": {},
   "outputs": [],
   "source": [
    "norms = []\n",
    "ts_scores = []\n",
    "for solution in ga.best_solutions:\n",
    "    sol = np.zeros((10, 10))\n",
    "    for i in range(len(list(rows))):\n",
    "        sol[rows[i]][cols[i]] = np.array(solution)[i]\n",
    "    link_flows, _, score = func(sol, s0, link_flows_real, 0, A, B) # score = L2 norm\n",
    "    diff = ts_ss(link_flows, link_flows_real) # diff = TS-SS score\n",
    "    norms.append(score)\n",
    "    ts_scores.append(diff)"
   ]
  },
  {
   "cell_type": "code",
   "execution_count": 229,
   "id": "489b38c4",
   "metadata": {},
   "outputs": [
    {
     "data": {
      "image/png": "[encoded data removed]",
      "text/plain": [
       "<Figure size 1080x504 with 2 Axes>"
      ]
     },
     "metadata": {},
     "output_type": "display_data"
    }
   ],
   "source": [
    "f, ax = plt.subplots(nrows=1, ncols=2, figsize=(15, 7))\n",
    "\n",
    "f.patch.set_facecolor('xkcd:white')\n",
    "\n",
    "best_sols = ga.best_solutions_fitness\n",
    "ax[0].plot(best_sols)\n",
    "\n",
    "# fitness_median = np.median(best_sols)\n",
    "# ax[0].scatter([np.argmin(best_sols), np.argmax(best_sols), best_sols.index(fitness_median)], [np.min(best_sols), np.max(best_sols), fitness_median], c='r', marker='x')\n",
    "# ax[0].text(np.argmin(best_sols), np.min(best_sols), \"Min: {:.4f}\".format(np.min(best_sols)))\n",
    "# ax[0].text(np.argmax(best_sols), np.max(best_sols), \"Max: {:.4f}\".format(np.max(best_sols)))\n",
    "# ax[0].text(best_sols.index(fitness_median), fitness_median, \"Median: {:.4f}\".format(fitness_median))\n",
    "\n",
    "ax[0].set_xlabel('Generation')\n",
    "ax[0].set_ylabel('Fitness')\n",
    "ax[0].set_title('Fitness values (TS-SS) of best solutions')\n",
    "\n",
    "ax[1].plot(norms)\n",
    "\n",
    "# norm_median = np.median(norms)\n",
    "# ax[1].scatter([np.argmin(norms), np.argmax(norms), norms.index(norm_median)], [np.min(norms), np.max(norms), norm_median], c='r', marker='x')\n",
    "# ax[1].text(np.argmin(norms), np.min(norms), \"Min: {:.4f}\".format(np.min(norms)))\n",
    "# ax[1].text(np.argmax(norms), np.max(norms), \"Max: {:.4f}\".format(np.max(norms)))\n",
    "# ax[1].text(norms.index(norm_median), norm_median, \"Median: {:.4f}\".format(norm_median))\n",
    "\n",
    "ax[1].set_xlabel('Generation')\n",
    "ax[1].set_ylabel('L2 norm')\n",
    "ax[1].set_title('L2 norms of best solutions')\n",
    "plt.show()"
   ]
  },
  {
   "cell_type": "code",
   "execution_count": 225,
   "id": "085d84eb",
   "metadata": {},
   "outputs": [
    {
     "data": {
      "image/png": "[encoded data removed]",
      "text/plain": [
       "<Figure size 576x360 with 1 Axes>"
      ]
     },
     "metadata": {
      "needs_background": "light"
     },
     "output_type": "display_data"
    }
   ],
   "source": [
    "plt.figure(figsize=(8, 5))\n",
    "plt.plot(ga.best_solutions_fitness[:50])\n",
    "plt.xlabel('Generation')\n",
    "plt.ylabel('Fitness')\n",
    "plt.title('Fitness values (TS-SS) of best solutions')\n",
    "plt.show()"
   ]
  },
  {
   "cell_type": "code",
   "execution_count": 226,
   "id": "4b495b14",
   "metadata": {},
   "outputs": [
    {
     "data": {
      "image/png": "[encoded data removed]",
      "text/plain": [
       "<Figure size 576x360 with 1 Axes>"
      ]
     },
     "metadata": {
      "needs_background": "light"
     },
     "output_type": "display_data"
    }
   ],
   "source": [
    "plt.figure(figsize=(8, 5))\n",
    "plt.plot(norms[:200])\n",
    "plt.xlabel('Generation')\n",
    "plt.ylabel('L2 norm')\n",
    "plt.title('L2 norms of best solutions')\n",
    "plt.show()"
   ]
  },
  {
   "cell_type": "code",
   "execution_count": 227,
   "id": "bfc56e61",
   "metadata": {},
   "outputs": [
    {
     "data": {
      "image/png": "[encoded data removed]",
      "text/plain": [
       "<Figure size 864x216 with 3 Axes>"
      ]
     },
     "metadata": {
      "needs_background": "light"
     },
     "output_type": "display_data"
    }
   ],
   "source": [
    "ga.plot_genes(graph_type='histogram')\n",
    "plt.show()"
   ]
  },
  {
   "cell_type": "code",
   "execution_count": 228,
   "id": "949820ed",
   "metadata": {},
   "outputs": [
    {
     "data": {
      "image/png": "[encoded data removed]",
      "text/plain": [
       "<Figure size 864x216 with 3 Axes>"
      ]
     },
     "metadata": {
      "needs_background": "light"
     },
     "output_type": "display_data"
    }
   ],
   "source": [
    "ga.plot_genes(graph_type='histogram', solutions='best')\n",
    "plt.show()"
   ]
  },
  {
   "cell_type": "code",
   "execution_count": null,
   "id": "f0dcc667",
   "metadata": {},
   "outputs": [],
   "source": []
  }
 ],
 "metadata": {
  "kernelspec": {
   "display_name": "Python 3 (ipykernel)",
   "language": "python",
   "name": "python3"
  },
  "language_info": {
   "codemirror_mode": {
    "name": "ipython",
    "version": 3
   },
   "file_extension": ".py",
   "mimetype": "text/x-python",
   "name": "python",
   "nbconvert_exporter": "python",
   "pygments_lexer": "ipython3",
   "version": "3.8.13"
  }
 },
 "nbformat": 4,
 "nbformat_minor": 5
}
